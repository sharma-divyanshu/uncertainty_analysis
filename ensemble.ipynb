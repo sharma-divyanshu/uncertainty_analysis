{
 "cells": [
  {
   "cell_type": "code",
   "execution_count": 22,
   "id": "490991e4",
   "metadata": {},
   "outputs": [],
   "source": [
    "import seaborn as sns\n",
    "import numpy as np\n",
    "import pandas as pd\n",
    "import matplotlib.pyplot as plt\n",
    "from matplotlib.gridspec import GridSpec\n",
    "\n",
    "import statistics\n",
    "import sklearn\n",
    "from sklearn.ensemble import BaggingClassifier\n",
    "from sklearn.linear_model import LogisticRegression\n",
    "from sklearn.model_selection import train_test_split\n",
    "from sklearn.metrics import accuracy_score\n",
    "from sklearn.calibration import CalibratedClassifierCV, CalibrationDisplay"
   ]
  },
  {
   "cell_type": "code",
   "execution_count": 2,
   "id": "6410e67f",
   "metadata": {
    "scrolled": true
   },
   "outputs": [
    {
     "data": {
      "text/html": [
       "<div>\n",
       "<style scoped>\n",
       "    .dataframe tbody tr th:only-of-type {\n",
       "        vertical-align: middle;\n",
       "    }\n",
       "\n",
       "    .dataframe tbody tr th {\n",
       "        vertical-align: top;\n",
       "    }\n",
       "\n",
       "    .dataframe thead th {\n",
       "        text-align: right;\n",
       "    }\n",
       "</style>\n",
       "<table border=\"1\" class=\"dataframe\">\n",
       "  <thead>\n",
       "    <tr style=\"text-align: right;\">\n",
       "      <th></th>\n",
       "      <th>Pregnancies</th>\n",
       "      <th>Glucose</th>\n",
       "      <th>BloodPressure</th>\n",
       "      <th>SkinThickness</th>\n",
       "      <th>Insulin</th>\n",
       "      <th>BMI</th>\n",
       "      <th>DiabetesPedigreeFunction</th>\n",
       "      <th>Age</th>\n",
       "      <th>Outcome</th>\n",
       "    </tr>\n",
       "  </thead>\n",
       "  <tbody>\n",
       "    <tr>\n",
       "      <th>0</th>\n",
       "      <td>6</td>\n",
       "      <td>148</td>\n",
       "      <td>72</td>\n",
       "      <td>35</td>\n",
       "      <td>0</td>\n",
       "      <td>33.6</td>\n",
       "      <td>0.627</td>\n",
       "      <td>50</td>\n",
       "      <td>1</td>\n",
       "    </tr>\n",
       "    <tr>\n",
       "      <th>1</th>\n",
       "      <td>1</td>\n",
       "      <td>85</td>\n",
       "      <td>66</td>\n",
       "      <td>29</td>\n",
       "      <td>0</td>\n",
       "      <td>26.6</td>\n",
       "      <td>0.351</td>\n",
       "      <td>31</td>\n",
       "      <td>0</td>\n",
       "    </tr>\n",
       "    <tr>\n",
       "      <th>2</th>\n",
       "      <td>8</td>\n",
       "      <td>183</td>\n",
       "      <td>64</td>\n",
       "      <td>0</td>\n",
       "      <td>0</td>\n",
       "      <td>23.3</td>\n",
       "      <td>0.672</td>\n",
       "      <td>32</td>\n",
       "      <td>1</td>\n",
       "    </tr>\n",
       "    <tr>\n",
       "      <th>3</th>\n",
       "      <td>1</td>\n",
       "      <td>89</td>\n",
       "      <td>66</td>\n",
       "      <td>23</td>\n",
       "      <td>94</td>\n",
       "      <td>28.1</td>\n",
       "      <td>0.167</td>\n",
       "      <td>21</td>\n",
       "      <td>0</td>\n",
       "    </tr>\n",
       "    <tr>\n",
       "      <th>4</th>\n",
       "      <td>0</td>\n",
       "      <td>137</td>\n",
       "      <td>40</td>\n",
       "      <td>35</td>\n",
       "      <td>168</td>\n",
       "      <td>43.1</td>\n",
       "      <td>2.288</td>\n",
       "      <td>33</td>\n",
       "      <td>1</td>\n",
       "    </tr>\n",
       "  </tbody>\n",
       "</table>\n",
       "</div>"
      ],
      "text/plain": [
       "   Pregnancies  Glucose  BloodPressure  SkinThickness  Insulin   BMI  \\\n",
       "0            6      148             72             35        0  33.6   \n",
       "1            1       85             66             29        0  26.6   \n",
       "2            8      183             64              0        0  23.3   \n",
       "3            1       89             66             23       94  28.1   \n",
       "4            0      137             40             35      168  43.1   \n",
       "\n",
       "   DiabetesPedigreeFunction  Age  Outcome  \n",
       "0                     0.627   50        1  \n",
       "1                     0.351   31        0  \n",
       "2                     0.672   32        1  \n",
       "3                     0.167   21        0  \n",
       "4                     2.288   33        1  "
      ]
     },
     "execution_count": 2,
     "metadata": {},
     "output_type": "execute_result"
    }
   ],
   "source": [
    "df = pd.read_csv(\"diabetes.csv\")\n",
    "df.head()"
   ]
  },
  {
   "cell_type": "code",
   "execution_count": 3,
   "id": "ae3fcf38",
   "metadata": {
    "scrolled": true
   },
   "outputs": [
    {
     "data": {
      "text/plain": [
       "Index(['Pregnancies', 'Glucose', 'BloodPressure', 'SkinThickness', 'Insulin',\n",
       "       'BMI', 'DiabetesPedigreeFunction', 'Age', 'Outcome'],\n",
       "      dtype='object')"
      ]
     },
     "execution_count": 3,
     "metadata": {},
     "output_type": "execute_result"
    }
   ],
   "source": [
    "df.columns"
   ]
  },
  {
   "cell_type": "code",
   "execution_count": 11,
   "id": "62108fa2",
   "metadata": {},
   "outputs": [],
   "source": [
    "model = BaggingClassifier(base_estimator=LogisticRegression(C= 0.9, max_iter=1000), n_estimators=30, max_samples=1.0, max_features=1.0, bootstrap=True,\n",
    "             bootstrap_features=True, oob_score=True, warm_start=False).fit(X, y)"
   ]
  },
  {
   "cell_type": "code",
   "execution_count": null,
   "id": "72c92b87",
   "metadata": {},
   "outputs": [],
   "source": [
    "# cols- esti1 est2\n",
    "# row: "
   ]
  },
  {
   "cell_type": "code",
   "execution_count": 25,
   "id": "75fad7ef",
   "metadata": {
    "scrolled": true
   },
   "outputs": [
    {
     "name": "stdout",
     "output_type": "stream",
     "text": [
      "[0.17266655 0.69622027 0.45361579 0.74861356 0.15033304 0.35837374\n",
      " 0.21372555 0.39190657 0.32551794 0.00886413]\n"
     ]
    },
    {
     "name": "stderr",
     "output_type": "stream",
     "text": [
      "C:\\Users\\ADMIN\\anaconda3\\lib\\site-packages\\sklearn\\base.py:443: UserWarning: X has feature names, but LogisticRegression was fitted without feature names\n",
      "  warnings.warn(\n"
     ]
    }
   ],
   "source": [
    "x_train, x_test, y_train, y_test = train_test_split(X, y, test_size=0.25, shuffle=True)\n",
    "for i in model.estimators_:\n",
    "    print(i.predict_proba(x_test)[:, 1][:10])\n",
    "    break"
   ]
  },
  {
   "cell_type": "code",
   "execution_count": 28,
   "id": "1e6cc865",
   "metadata": {},
   "outputs": [
    {
     "data": {
      "text/plain": [
       "1"
      ]
     },
     "execution_count": 28,
     "metadata": {},
     "output_type": "execute_result"
    }
   ],
   "source": [
    "statistics.variance([1,2,3])"
   ]
  },
  {
   "cell_type": "code",
   "execution_count": 54,
   "id": "6b11eed3",
   "metadata": {},
   "outputs": [],
   "source": [
    "def ensemble(X, y, base_estimator=LogisticRegression(C= 0.9, max_iter=1000), n_estimators=10, max_samples=1.0, max_features=1.0, bootstrap=True,\n",
    "             bootstrap_features=True, oob_score=True, warm_start=False, **kwargs):\n",
    "    \n",
    "    x_train, x_test, y_train, y_test = train_test_split(X, y, test_size=0.25, shuffle=True)\n",
    "    \n",
    "    model = BaggingClassifier(base_estimator=base_estimator, n_estimators=n_estimators,\n",
    "                              max_samples=max_samples, max_features=max_features, \n",
    "                              bootstrap=bootstrap, bootstrap_features=bootstrap_features,\n",
    "                              oob_score=bootstrap_features)\n",
    "    \n",
    "    \n",
    "    model.fit(x_train, y_train)\n",
    "    \n",
    "    y_preds = model.predict(x_test)\n",
    "    y_probs = model.predict_proba(x_test)\n",
    "    #print(x_test.shape)\n",
    "    #print(y_probs.shape)\n",
    "    #print(y_probs)\n",
    "    \n",
    "\n",
    "#     acc = accuracy_score(y_test, y_preds)\n",
    "    #ece = expected_calibration_error(y_test, y_probs)\n",
    "    \n",
    "#     reliability_diagram(y_test, y_probs)\n",
    "\n",
    "    probs = pd.DataFrame()\n",
    "    i = 1\n",
    "    for mod in model.estimators_:\n",
    "        probs1 = mod.predict_proba(x_test)[:, 1] # probabilities of input being classified as 1\n",
    "        probs[f'mod{i}'] = probs1\n",
    "        i+=1\n",
    "    \n",
    "    var_predictions = probs.var(axis=1)\n",
    "    var_models = probs.var(axis=0)\n",
    "    \n",
    "    return model, y_probs, probs, var_models, var_predictions"
   ]
  },
  {
   "cell_type": "code",
   "execution_count": 55,
   "id": "494f9b97",
   "metadata": {
    "scrolled": true
   },
   "outputs": [
    {
     "name": "stderr",
     "output_type": "stream",
     "text": [
      "C:\\Users\\ADMIN\\anaconda3\\lib\\site-packages\\sklearn\\ensemble\\_bagging.py:747: UserWarning: Some inputs do not have OOB scores. This probably means too few estimators were used to compute any reliable oob estimates.\n",
      "  warn(\n",
      "C:\\Users\\ADMIN\\anaconda3\\lib\\site-packages\\sklearn\\ensemble\\_bagging.py:753: RuntimeWarning: invalid value encountered in true_divide\n",
      "  oob_decision_function = predictions / predictions.sum(axis=1)[:, np.newaxis]\n",
      "C:\\Users\\ADMIN\\anaconda3\\lib\\site-packages\\sklearn\\base.py:443: UserWarning: X has feature names, but LogisticRegression was fitted without feature names\n",
      "  warnings.warn(\n",
      "C:\\Users\\ADMIN\\anaconda3\\lib\\site-packages\\sklearn\\base.py:443: UserWarning: X has feature names, but LogisticRegression was fitted without feature names\n",
      "  warnings.warn(\n",
      "C:\\Users\\ADMIN\\anaconda3\\lib\\site-packages\\sklearn\\base.py:443: UserWarning: X has feature names, but LogisticRegression was fitted without feature names\n",
      "  warnings.warn(\n",
      "C:\\Users\\ADMIN\\anaconda3\\lib\\site-packages\\sklearn\\base.py:443: UserWarning: X has feature names, but LogisticRegression was fitted without feature names\n",
      "  warnings.warn(\n",
      "C:\\Users\\ADMIN\\anaconda3\\lib\\site-packages\\sklearn\\base.py:443: UserWarning: X has feature names, but LogisticRegression was fitted without feature names\n",
      "  warnings.warn(\n",
      "C:\\Users\\ADMIN\\anaconda3\\lib\\site-packages\\sklearn\\base.py:443: UserWarning: X has feature names, but LogisticRegression was fitted without feature names\n",
      "  warnings.warn(\n",
      "C:\\Users\\ADMIN\\anaconda3\\lib\\site-packages\\sklearn\\base.py:443: UserWarning: X has feature names, but LogisticRegression was fitted without feature names\n",
      "  warnings.warn(\n",
      "C:\\Users\\ADMIN\\anaconda3\\lib\\site-packages\\sklearn\\base.py:443: UserWarning: X has feature names, but LogisticRegression was fitted without feature names\n",
      "  warnings.warn(\n",
      "C:\\Users\\ADMIN\\anaconda3\\lib\\site-packages\\sklearn\\base.py:443: UserWarning: X has feature names, but LogisticRegression was fitted without feature names\n",
      "  warnings.warn(\n",
      "C:\\Users\\ADMIN\\anaconda3\\lib\\site-packages\\sklearn\\base.py:443: UserWarning: X has feature names, but LogisticRegression was fitted without feature names\n",
      "  warnings.warn(\n"
     ]
    }
   ],
   "source": [
    "model, y_probs, probs, var_models, var_predictions = ensemble(X, y)"
   ]
  },
  {
   "cell_type": "code",
   "execution_count": 47,
   "id": "8e1420b1",
   "metadata": {
    "scrolled": true
   },
   "outputs": [
    {
     "data": {
      "text/plain": [
       "mod1     5.372244e-02\n",
       "mod2     4.132188e-15\n",
       "mod3     6.943371e-15\n",
       "mod4     7.158050e-02\n",
       "mod5     6.420064e-02\n",
       "mod6     2.141553e-01\n",
       "mod7     4.132117e-05\n",
       "mod8     1.618603e-01\n",
       "mod9     2.940910e-07\n",
       "mod10    7.927320e-06\n",
       "dtype: float64"
      ]
     },
     "execution_count": 47,
     "metadata": {},
     "output_type": "execute_result"
    }
   ],
   "source": [
    "var_models"
   ]
  },
  {
   "cell_type": "code",
   "execution_count": 50,
   "id": "b2fbe3d9",
   "metadata": {
    "scrolled": true
   },
   "outputs": [
    {
     "data": {
      "text/plain": [
       "0    0.097567\n",
       "1    0.126154\n",
       "dtype: float64"
      ]
     },
     "execution_count": 50,
     "metadata": {},
     "output_type": "execute_result"
    }
   ],
   "source": [
    "var_predictions[:2] # variance of output of estimators for each prediction."
   ]
  },
  {
   "cell_type": "code",
   "execution_count": 67,
   "id": "a1b48add",
   "metadata": {},
   "outputs": [
    {
     "data": {
      "text/plain": [
       "array([0.2720334 , 0.83771572, 0.80212482, 0.33710311, 0.02793165,\n",
       "       0.61288317, 0.33870606, 0.4695425 , 0.27963184, 0.26975782])"
      ]
     },
     "execution_count": 67,
     "metadata": {},
     "output_type": "execute_result"
    }
   ],
   "source": [
    "y_probs[:,1][:10]"
   ]
  },
  {
   "cell_type": "code",
   "execution_count": 66,
   "id": "6a61dc02",
   "metadata": {},
   "outputs": [
    {
     "data": {
      "text/plain": [
       "<matplotlib.collections.PathCollection at 0x1f0afc8a3d0>"
      ]
     },
     "execution_count": 66,
     "metadata": {},
     "output_type": "execute_result"
    },
    {
     "data": {
      "image/png": "[encoded data removed]",
      "text/plain": [
       "<Figure size 432x288 with 1 Axes>"
      ]
     },
     "metadata": {
      "needs_background": "light"
     },
     "output_type": "display_data"
    }
   ],
   "source": [
    "plt.scatter(var_predictions, y_probs[:,1])\n",
    "\n",
    "\n",
    "# colors = plt.cm.get_cmap(\"Dark2\")\n",
    "\n",
    "# plt.hist(\n",
    "#     y_probs[:,1],\n",
    "#     range=(0, 1),\n",
    "#     bins=10)"
   ]
  },
  {
   "cell_type": "code",
   "execution_count": 5,
   "id": "3d6faa6f",
   "metadata": {},
   "outputs": [],
   "source": [
    "def expected_calibration_error(y_true, y_pred, num_bins=15):\n",
    "    \"y_preds should contain list of probabilities. More bins reduce the bias, but increase the variance \"\n",
    "    pred_y = np.argmax(y_pred, axis=-1)\n",
    "    correct = (pred_y == y_true).astype(np.float32)\n",
    "    prob_y = np.max(y_pred, axis=-1)\n",
    "\n",
    "    b = np.linspace(start=0, stop=1.0, num=num_bins)\n",
    "    bins = np.digitize(prob_y, bins=b, right=True)\n",
    "\n",
    "    o = 0\n",
    "    for b in range(num_bins):\n",
    "        mask = bins == b\n",
    "        if np.any(mask):\n",
    "            o += np.abs(np.sum(correct[mask] - prob_y[mask]))\n",
    "\n",
    "    return o / y_pred.shape[0], accuracy_score(y_true, pred_y)"
   ]
  },
  {
   "cell_type": "code",
   "execution_count": 6,
   "id": "e18f94f6",
   "metadata": {},
   "outputs": [],
   "source": [
    "def reliability_diagram(y_true, y_pred, label='LogisticRegression'):\n",
    "    x, y = expected_calibration_error(y_true, y_pred)\n",
    "\n",
    "    plt.plot([0, 1], [0, 1], \"k:\", label=\"Perfectly calibrated\")\n",
    "    plt.plot(x, y, \"s-\", label=label)\n",
    "\n",
    "    plt.xlabel(\"Confidence\")\n",
    "    plt.ylabel(\"Accuracy\")\n",
    "    plt.legend(loc=\"lower right\")\n",
    "    plt.title(\"Reliability diagram / calibration curve\")\n",
    "\n",
    "    plt.tight_layout()\n",
    "    plt.show()"
   ]
  },
  {
   "cell_type": "code",
   "execution_count": 18,
   "id": "ecbe8891",
   "metadata": {
    "scrolled": true
   },
   "outputs": [
    {
     "data": {
      "text/plain": [
       "0.16000000000000003"
      ]
     },
     "execution_count": 18,
     "metadata": {},
     "output_type": "execute_result"
    }
   ],
   "source": [
    "0.8*0.2"
   ]
  },
  {
   "cell_type": "code",
   "execution_count": 9,
   "id": "26b24494",
   "metadata": {},
   "outputs": [],
   "source": [
    "lr = LogisticRegression(C=1.0)\n",
    "clf_list = [(lr, \"Logistic\")]\n",
    "\n",
    "X = df.drop('Outcome', axis=1)\n",
    "y = df['Outcome']\n",
    "x_train, x_test, y_train, y_test = train_test_split(X, y, test_size=0.25, shuffle=True)"
   ]
  },
  {
   "cell_type": "code",
   "execution_count": 75,
   "id": "4905b94c",
   "metadata": {
    "scrolled": false
   },
   "outputs": [
    {
     "name": "stderr",
     "output_type": "stream",
     "text": [
      "C:\\Users\\ADMIN\\anaconda3\\lib\\site-packages\\sklearn\\linear_model\\_logistic.py:444: ConvergenceWarning: lbfgs failed to converge (status=1):\n",
      "STOP: TOTAL NO. of ITERATIONS REACHED LIMIT.\n",
      "\n",
      "Increase the number of iterations (max_iter) or scale the data as shown in:\n",
      "    https://scikit-learn.org/stable/modules/preprocessing.html\n",
      "Please also refer to the documentation for alternative solver options:\n",
      "    https://scikit-learn.org/stable/modules/linear_model.html#logistic-regression\n",
      "  n_iter_i = _check_optimize_result(\n"
     ]
    },
    {
     "data": {
      "image/png": "[encoded data removed]",
      "text/plain": [
       "<Figure size 720x720 with 2 Axes>"
      ]
     },
     "metadata": {
      "needs_background": "light"
     },
     "output_type": "display_data"
    }
   ],
   "source": [
    "fig = plt.figure(figsize=(10, 10))\n",
    "gs = GridSpec(4, 2)\n",
    "colors = plt.cm.get_cmap(\"Dark2\")\n",
    "\n",
    "ax_calibration_curve = fig.add_subplot(gs[:2, :2])\n",
    "calibration_displays = {}\n",
    "for i, (clf, name) in enumerate(clf_list):\n",
    "    clf.fit(x_train, y_train)\n",
    "    display = CalibrationDisplay.from_estimator(\n",
    "        clf,\n",
    "        x_test,,\n",
    "        y_test,\n",
    "        n_bins=10,\n",
    "        name=name,\n",
    "        ax=ax_calibration_curve,\n",
    "        color=colors(i),\n",
    "    )\n",
    "    calibration_displays[name] = display\n",
    "\n",
    "ax_calibration_curve.grid()\n",
    "ax_calibration_curve.set_title(\"Calibration plots (Logistic Regression)\")\n",
    "\n",
    "# Add histogram\n",
    "grid_positions = [(2, 0), (2, 1), (3, 0), (3, 1)]\n",
    "for i, (_, name) in enumerate(clf_list):\n",
    "    row, col = grid_positions[i]\n",
    "    ax = fig.add_subplot(gs[row, col])\n",
    "\n",
    "    ax.hist(\n",
    "        calibration_displays[name].y_prob,\n",
    "        range=(0, 1),\n",
    "        bins=10,\n",
    "        label=name,\n",
    "        color=colors(i),\n",
    "    )\n",
    "    ax.set(title=name, xlabel=\"Mean predicted probability\", ylabel=\"Count\")\n",
    "\n",
    "plt.tight_layout()\n",
    "plt.show()"
   ]
  },
  {
   "cell_type": "code",
   "execution_count": null,
   "id": "bffda6de",
   "metadata": {},
   "outputs": [],
   "source": []
  }
 ],
 "metadata": {
  "kernelspec": {
   "display_name": "Python 3 (ipykernel)",
   "language": "python",
   "name": "python3"
  },
  "language_info": {
   "codemirror_mode": {
    "name": "ipython",
    "version": 3
   },
   "file_extension": ".py",
   "mimetype": "text/x-python",
   "name": "python",
   "nbconvert_exporter": "python",
   "pygments_lexer": "ipython3",
   "version": "3.9.7"
  }
 },
 "nbformat": 4,
 "nbformat_minor": 5
}
